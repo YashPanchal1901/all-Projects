{
  "nbformat": 4,
  "nbformat_minor": 0,
  "metadata": {
    "colab": {
      "provenance": []
    },
    "kernelspec": {
      "name": "python3",
      "display_name": "Python 3"
    },
    "language_info": {
      "name": "python"
    }
  },
  "cells": [
    {
      "cell_type": "code",
      "execution_count": 4,
      "metadata": {
        "id": "ok7Dq-I21xjI"
      },
      "outputs": [],
      "source": [
        "import pandas as pd\n",
        "import  numpy as np\n",
        "import matplotlib.pyplot as plt\n",
        "from sklearn.datasets import fetch_lfw_people\n",
        "from sklearn.model_selection import train_test_split\n",
        "from sklearn.decomposition import PCA\n",
        "from sklearn.metrics import accuracy_score\n",
        "from sklearn.discriminant_analysis import LinearDiscriminantAnalysis\n",
        "import os\n",
        "import cv2\n"
      ]
    },
    {
      "cell_type": "code",
      "source": [
        "def plot_gallery(im, titles,  h, w, n_rows=3, n_clos= 4):\n",
        "    plt.figure(figsize=(1.8 * n_clos, 2.4 * n_rows))\n",
        "    plt.subplots_adjust(bottom=0, left=.01, right=.99, top=.90, hspace=.35)\n",
        "    for i in range(n_rows * n_clos):\n",
        "        plt.subplot(n_rows, n_clos, i + 1)\n",
        "        plt.imshow(im[i].reshape((h, w)), cmap=plt.cm.gray)\n",
        "        plt.title(titles[i], size=12)\n",
        "        plt.xticks(())\n",
        "        plt.yticks(())\n"
      ],
      "metadata": {
        "id": "OojZ3z2J2XC3"
      },
      "execution_count": 5,
      "outputs": []
    },
    {
      "cell_type": "code",
      "source": [
        "dir_name = 'dataset/faces/'\n",
        "\n",
        "y=[]\n",
        "x = []\n",
        "target = []\n",
        "\n",
        "n_samples = 0\n",
        "person_id = 0\n",
        "h = w = 300\n",
        "\n",
        "class_names = []\n",
        "\n",
        "for person_name in os.listdir(dir_name):\n",
        "    dir_path = dir_name + person_name + '/'\n",
        "    class_names.append(person_name)\n",
        "\n",
        "    for img_name in os.listdir(dir_path):\n",
        "        img = cv2.imread(dir_path + img_name, cv2.IMREAD_GRAYSCALE)\n",
        "        x.append((cv2.resize(img, (h, w))).flatten())\n",
        "        y.append(person_id)\n",
        "        n_samples += 1\n",
        "        target.append(person_id)\n",
        "    person_id += 1\n",
        "\n",
        "x = np.array(x)\n",
        "y = np.array(y)\n",
        "target = np.array(target)\n",
        "n_features = x.shape[1]\n",
        "\n",
        "print(x.shape)\n",
        "print(y.shape)\n",
        "print(target.shape)\n",
        "print(n_samples)"
      ],
      "metadata": {
        "id": "BGRSzOQl3bvH"
      },
      "execution_count": null,
      "outputs": []
    },
    {
      "cell_type": "code",
      "source": [
        "x_train, x_test, y_train, y_test = train_test_split(x, y, test_size=0.2, random_state=42)"
      ],
      "metadata": {
        "id": "xJAFtnXx5OqY"
      },
      "execution_count": null,
      "outputs": []
    },
    {
      "cell_type": "code",
      "source": [
        "n_components = 150\n",
        "\n",
        "pca= PCA(n_components=n_components, svd_solver='randomized', whiten=True).fit(x_train)\n",
        "x_train_pca = pca.transform(x_train)\n",
        "x_test_pca = pca.transform(x_test)"
      ],
      "metadata": {
        "id": "0eHGR-jo5WAd"
      },
      "execution_count": null,
      "outputs": []
    },
    {
      "cell_type": "code",
      "source": [
        "eigenfaces = pca.components_.reshape((n_components, h, w))\n",
        "eigenface_titles = [\"eigenface %d\" % i for i in range(eigenfaces.shape[0])]\n",
        "plot_gallery(eigenfaces, eigenface_titles, h, w)\n",
        "plt.show()"
      ],
      "metadata": {
        "id": "7Ru63nhq56iU"
      },
      "execution_count": null,
      "outputs": []
    },
    {
      "cell_type": "code",
      "source": [
        "lda = LinearDiscriminantAnalysis(n_components=2).fit(x_train_pca, y_train)\n",
        "x_train_lda = lda.transform(x_train_pca)\n",
        "x_test_lda = lda.transform(x_test_pca)"
      ],
      "metadata": {
        "id": "6uGm4CVv6KZm"
      },
      "execution_count": null,
      "outputs": []
    },
    {
      "cell_type": "code",
      "source": [],
      "metadata": {
        "id": "t6Ic4rpc6OhD"
      },
      "execution_count": null,
      "outputs": []
    }
  ]
}
